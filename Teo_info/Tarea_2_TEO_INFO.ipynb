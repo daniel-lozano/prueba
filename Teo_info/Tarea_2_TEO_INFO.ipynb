{
 "cells": [
  {
   "cell_type": "code",
   "execution_count": 16,
   "metadata": {
    "collapsed": true
   },
   "outputs": [],
   "source": [
    "import numpy as np\n",
    "import matplotlib.pyplot as plt\n",
    "from scipy.optimize import brentq\n",
    "from scipy.integrate import quad, dblquad"
   ]
  },
  {
   "cell_type": "code",
   "execution_count": 25,
   "metadata": {
    "collapsed": false
   },
   "outputs": [
    {
     "data": {
      "text/plain": [
       "1000"
      ]
     },
     "execution_count": 25,
     "metadata": {},
     "output_type": "execute_result"
    }
   ],
   "source": [
    "X=[-11.38,-35.4,1.6,2.7,5.3,-3.8,-3.7,-9.8,2.5,5]\n",
    "\n",
    "N=1000\n",
    "y=np.linspace(0,40,N)\n",
    "len(y)"
   ]
  },
  {
   "cell_type": "code",
   "execution_count": 26,
   "metadata": {
    "collapsed": false
   },
   "outputs": [
    {
     "data": {
      "text/plain": [
       "1.0000003466120262"
      ]
     },
     "execution_count": 26,
     "metadata": {},
     "output_type": "execute_result"
    }
   ],
   "source": [
    "#para normalizar la funcion\n",
    "\n",
    "def mult(y,X):\n",
    "    A=1.0\n",
    "    for i in range(len(X)):\n",
    "        A=A*(y/(2*np.pi))*(1/(y**2+X[i]**2))\n",
    "    return A\n",
    "\n",
    "funcion=lambda y: mult(y,X)\n",
    "Norm=quad(funcion,y[0],y[-1])[0]\n",
    "\n",
    "fun=lambda y: mult(y,X)/Norm\n",
    "quad(fun,y[0],y[-1])[0]"
   ]
  },
  {
   "cell_type": "code",
   "execution_count": 27,
   "metadata": {
    "collapsed": false
   },
   "outputs": [],
   "source": [
    "def func(y,X,N):\n",
    "    \n",
    "    A=np.ones(N)\n",
    "    \n",
    "    for j in range(N):\n",
    "        b=1.0\n",
    "    \n",
    "        for i in range(len(X)):\n",
    "            b=b*(y[j]/(y[j]**2+X[i]**2))/(2*np.pi)\n",
    "            \n",
    "        A[j]=b\n",
    "        \n",
    "    return A/Norm"
   ]
  },
  {
   "cell_type": "code",
   "execution_count": 28,
   "metadata": {
    "collapsed": false
   },
   "outputs": [
    {
     "data": {
      "image/png": "[encoded data removed]",
      "text/plain": [
       "<matplotlib.figure.Figure at 0x10ad87d50>"
      ]
     },
     "metadata": {},
     "output_type": "display_data"
    }
   ],
   "source": [
    "\n",
    "Tot=func(y,X,N)\n",
    "Tot1=mult(y,X)\n",
    "Y=y*Tot\n",
    "Y2=y*y*Tot\n",
    "plt.plot(y,Tot,label=\"$ P(y_f|x_1,\\dotsx_{10}) $\")\n",
    "plt.plot(y,Y,\"--\",label=\"$ y_fP(y_f|x_1,\\dotsx_{10}) $\")\n",
    "plt.plot(y,Y2,\".-\",label=\"$ y_f^2P(y_f|x_1,\\dotsx_{10}) $\")\n",
    "plt.xlim(0,20)\n",
    "plt.legend()\n",
    "plt.savefig(\"punto2_distribuciones.png\")\n",
    "plt.show()\n",
    "plt.close()"
   ]
  },
  {
   "cell_type": "markdown",
   "metadata": {},
   "source": [
    "# Integrando, Hallando los valores medios"
   ]
  },
  {
   "cell_type": "code",
   "execution_count": 29,
   "metadata": {
    "collapsed": false
   },
   "outputs": [
    {
     "name": "stdout",
     "output_type": "stream",
     "text": [
      "((6.2114039720523095, 6.444898394714471e-08), (45.781467556462175, 1.819349969193901e-07))\n"
     ]
    }
   ],
   "source": [
    "funy1=lambda y: y*mult(y,X)/Norm\n",
    "funy2=lambda y: y*y*mult(y,X)/Norm\n",
    "valy=quad(funy1,y[0],np.inf)\n",
    "valy2=quad(funy2,y[0],np.inf)\n",
    "print(valy,valy2)\n",
    "\n",
    "\n"
   ]
  },
  {
   "cell_type": "markdown",
   "metadata": {},
   "source": [
    "# Incertidumbre de Y: $ \\sigma_y= \\langle y^2 \\rangle -\\langle y \\rangle^2$"
   ]
  },
  {
   "cell_type": "code",
   "execution_count": 30,
   "metadata": {
    "collapsed": false
   },
   "outputs": [
    {
     "data": {
      "text/plain": [
       "2.6832682035970548"
      ]
     },
     "execution_count": 30,
     "metadata": {},
     "output_type": "execute_result"
    }
   ],
   "source": [
    "np.sqrt(valy2[0]-valy[0]**2)"
   ]
  },
  {
   "cell_type": "markdown",
   "metadata": {},
   "source": [
    "# valor optimo de y\n"
   ]
  },
  {
   "cell_type": "code",
   "execution_count": 31,
   "metadata": {
    "collapsed": false
   },
   "outputs": [
    {
     "name": "stdout",
     "output_type": "stream",
     "text": [
      "4.84484484484\n"
     ]
    }
   ],
   "source": [
    "funcm=max(Tot)\n",
    "MY=0\n",
    "for i in range(len(Tot)):\n",
    "    if(Tot[i]==funcm):\n",
    "        MY=y[i]\n",
    "        print(y[i])\n",
    "line_y=np.linspace(min(Tot),max(Tot),100)\n",
    "line_x=np.ones(100)*MY"
   ]
  },
  {
   "cell_type": "code",
   "execution_count": 32,
   "metadata": {
    "collapsed": false
   },
   "outputs": [
    {
     "data": {
      "image/png": "[encoded data removed]",
      "text/plain": [
       "<matplotlib.figure.Figure at 0x10d806810>"
      ]
     },
     "metadata": {},
     "output_type": "display_data"
    }
   ],
   "source": [
    "plt.plot(y,Tot,label=\"$ P(y_f|x_1,\\dotsx_{10}) $\")\n",
    "plt.plot(line_x,line_y,\"--\")\n",
    "plt.xlim(0,20)\n",
    "plt.title(\"$ y_{av}=4.844, \\quad \\sigma_y=2.6832  $\")\n",
    "plt.legend()\n",
    "plt.savefig(\"punto2_valores.png\")\n",
    "plt.show()"
   ]
  },
  {
   "cell_type": "code",
   "execution_count": null,
   "metadata": {
    "collapsed": true
   },
   "outputs": [],
   "source": []
  },
  {
   "cell_type": "code",
   "execution_count": null,
   "metadata": {
    "collapsed": true
   },
   "outputs": [],
   "source": []
  }
 ],
 "metadata": {
  "anaconda-cloud": {},
  "kernelspec": {
   "display_name": "Python [default]",
   "language": "python",
   "name": "python2"
  },
  "language_info": {
   "codemirror_mode": {
    "name": "ipython",
    "version": 2
   },
   "file_extension": ".py",
   "mimetype": "text/x-python",
   "name": "python",
   "nbconvert_exporter": "python",
   "pygments_lexer": "ipython2",
   "version": "2.7.14"
  }
 },
 "nbformat": 4,
 "nbformat_minor": 1
}
