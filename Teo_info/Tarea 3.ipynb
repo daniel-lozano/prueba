{
 "cells": [
  {
   "cell_type": "code",
   "execution_count": 1,
   "metadata": {
    "collapsed": true
   },
   "outputs": [],
   "source": [
    "import numpy as np\n",
    "import matplotlib.pyplot as plt\n",
    "from scipy.optimize import brentq\n",
    "from scipy.integrate import quad, dblquad\n"
   ]
  },
  {
   "cell_type": "code",
   "execution_count": 22,
   "metadata": {
    "collapsed": false
   },
   "outputs": [
    {
     "data": {
      "image/png": "[encoded data removed]",
      "text/plain": [
       "<matplotlib.figure.Figure at 0x113232ed0>"
      ]
     },
     "metadata": {},
     "output_type": "display_data"
    }
   ],
   "source": [
    "D=[0.3,0.5,0.7,0.8,0.9]\n",
    "N=1000\n",
    "m=np.linspace(-1,1,N)\n",
    "\n",
    "def func(m,d):\n",
    "    return 0.5*(1+m*d)\n",
    "\n",
    "def prod(m):\n",
    "    Pm=np.ones(N)\n",
    "    for i in range(len(D)):\n",
    "        Pm=Pm*func(m,D[i])\n",
    "    return Pm\n",
    "\n",
    "def prod_n(m):\n",
    "    Pm=1.0\n",
    "    for i in range(len(D)):\n",
    "        Pm=Pm*func(m,D[i])\n",
    "    return Pm\n",
    "        \n",
    "PM2=prod(m)\n",
    "\n",
    "fun= lambda m: prod_n(m)\n",
    "\n",
    "\n",
    "plt.plot(m,PM)\n",
    "plt.plot(m,PM2)\n",
    "plt.xlim(-1,1)\n",
    "plt.show()\n"
   ]
  },
  {
   "cell_type": "code",
   "execution_count": 23,
   "metadata": {
    "collapsed": false
   },
   "outputs": [
    {
     "data": {
      "text/plain": [
       "(0.1540379166666667, 1.710164417486245e-15)"
      ]
     },
     "execution_count": 23,
     "metadata": {},
     "output_type": "execute_result"
    }
   ],
   "source": [
    "quad(fun,-1.0,1.0)"
   ]
  },
  {
   "cell_type": "code",
   "execution_count": 24,
   "metadata": {
    "collapsed": false
   },
   "outputs": [
    {
     "data": {
      "text/plain": [
       "0.0625"
      ]
     },
     "execution_count": 24,
     "metadata": {},
     "output_type": "execute_result"
    }
   ],
   "source": [
    "1.0/16"
   ]
  },
  {
   "cell_type": "code",
   "execution_count": null,
   "metadata": {
    "collapsed": true
   },
   "outputs": [],
   "source": []
  }
 ],
 "metadata": {
  "anaconda-cloud": {},
  "kernelspec": {
   "display_name": "Python [default]",
   "language": "python",
   "name": "python2"
  },
  "language_info": {
   "codemirror_mode": {
    "name": "ipython",
    "version": 2
   },
   "file_extension": ".py",
   "mimetype": "text/x-python",
   "name": "python",
   "nbconvert_exporter": "python",
   "pygments_lexer": "ipython2",
   "version": "2.7.14"
  }
 },
 "nbformat": 4,
 "nbformat_minor": 1
}
